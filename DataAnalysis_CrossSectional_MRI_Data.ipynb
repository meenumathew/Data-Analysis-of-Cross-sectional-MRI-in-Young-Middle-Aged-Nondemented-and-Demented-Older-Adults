{
  "nbformat": 4,
  "nbformat_minor": 0,
  "metadata": {
    "colab": {
      "name": "DataAnalysis_CrossSectional_MRI_Data.ipynb",
      "private_outputs": true,
      "provenance": [],
      "collapsed_sections": []
    },
    "kernelspec": {
      "name": "python3",
      "display_name": "Python 3"
    }
  },
  "cells": [
    {
      "cell_type": "code",
      "metadata": {
        "id": "Ospl1HtdYIiT"
      },
      "source": [
        "import pandas as pd\n",
        "import os\n",
        "import matplotlib\n",
        "import matplotlib.pyplot as plt\n",
        "import seaborn as sns"
      ],
      "execution_count": null,
      "outputs": []
    },
    {
      "cell_type": "code",
      "metadata": {
        "id": "8FGgJy4TCw7K"
      },
      "source": [
        "from google.colab import drive\n",
        "drive.mount(\"/content/drive\", force_remount=True)\n",
        "\n",
        "# mounting a specific directory on my google drive for data storage and retrieval\n",
        "os.chdir(\"/content/drive/My Drive/DMAV/\")\n"
      ],
      "execution_count": null,
      "outputs": []
    },
    {
      "cell_type": "code",
      "metadata": {
        "id": "YPlFkXyXYJm4"
      },
      "source": [
        "df = pd.read_csv(\"oasis_longitudinal.csv\")"
      ],
      "execution_count": null,
      "outputs": []
    },
    {
      "cell_type": "code",
      "metadata": {
        "id": "3-tL5R2HdTHb"
      },
      "source": [
        "df.head()"
      ],
      "execution_count": null,
      "outputs": []
    },
    {
      "cell_type": "code",
      "metadata": {
        "id": "iTb1pMb7ddC3"
      },
      "source": [
        "df.info()"
      ],
      "execution_count": null,
      "outputs": []
    },
    {
      "cell_type": "code",
      "metadata": {
        "id": "A1HGKQO8FB7w"
      },
      "source": [
        "df = df.set_index('MRI ID')\n",
        "df.head()"
      ],
      "execution_count": null,
      "outputs": []
    },
    {
      "cell_type": "markdown",
      "metadata": {
        "id": "bHUgwvDF0xXB"
      },
      "source": [
        "**Cleansing**"
      ]
    },
    {
      "cell_type": "code",
      "metadata": {
        "id": "vRRK7YwogSqs"
      },
      "source": [
        "df.duplicated()"
      ],
      "execution_count": null,
      "outputs": []
    },
    {
      "cell_type": "markdown",
      "metadata": {
        "id": "nFxE4F6xiRa7"
      },
      "source": [
        "To see the rows that are duplicated use the result from df.duplicated() as a mask for the dataframe. "
      ]
    },
    {
      "cell_type": "code",
      "metadata": {
        "id": "mxseIrENhXAj"
      },
      "source": [
        "df[df.duplicated()]"
      ],
      "execution_count": null,
      "outputs": []
    },
    {
      "cell_type": "code",
      "metadata": {
        "id": "lc6smvZ7iPtU"
      },
      "source": [
        "df_clean = df.drop_duplicates()"
      ],
      "execution_count": null,
      "outputs": []
    },
    {
      "cell_type": "code",
      "metadata": {
        "id": "4zF9BTeMjGh1"
      },
      "source": [
        "df_clean.info()  "
      ],
      "execution_count": null,
      "outputs": []
    },
    {
      "cell_type": "code",
      "metadata": {
        "id": "OO6HfcevmD5e"
      },
      "source": [
        "df_clean[df_clean.index.duplicated()]"
      ],
      "execution_count": null,
      "outputs": []
    },
    {
      "cell_type": "markdown",
      "metadata": {
        "id": "Oj9ZDfykq_yj"
      },
      "source": [
        "#Dropping irrelevant columns\n",
        "\n",
        "\n"
      ]
    },
    {
      "cell_type": "code",
      "metadata": {
        "id": "aWToot8JN7cD"
      },
      "source": [
        "df=df_clean.drop(['Subject ID','Hand','MR Delay','Visit','MMSE'],axis=1)\n",
        "\n",
        "df.head()"
      ],
      "execution_count": null,
      "outputs": []
    },
    {
      "cell_type": "markdown",
      "metadata": {
        "id": "ITS4aNoA0JWi"
      },
      "source": [
        "**Visaulisation**"
      ]
    },
    {
      "cell_type": "markdown",
      "metadata": {
        "id": "HX6E_NQbz6fu"
      },
      "source": [
        "**Density plot of Clinical Dementia Rate(CDR) by normal Whole Brain Volume (nWBV)**"
      ]
    },
    {
      "cell_type": "code",
      "metadata": {
        "id": "QioZvkyUTUzl"
      },
      "source": [
        "\n",
        "fig = plt.figure(figsize=(12,12))\n",
        "facet= sns.FacetGrid(df,hue=\"CDR\", aspect=3)\n",
        "facet.map(sns.kdeplot,'nWBV',shade= True)\n",
        "facet.set(xlim=(0.5,1))\n",
        "plt.xlabel('normal Whole Brain Volume (nWBV)', size = 12); plt.ylabel('Density', size = 12); \n",
        "plt.title('Density plot of Clinical Dementia Rate(CDR) by normal Whole Brain Volume (nWBV) ', size = 16 );\n",
        "facet.add_legend()\n",
        "plt.savefig('nWBV_CDR.png')\n",
        "\n",
        "\n"
      ],
      "execution_count": null,
      "outputs": []
    },
    {
      "cell_type": "markdown",
      "metadata": {
        "id": "vfNZhPy9x_AE"
      },
      "source": [
        "**Age v/s nWBV of the patient**"
      ]
    },
    {
      "cell_type": "code",
      "metadata": {
        "id": "eoMXjb-T2R1J"
      },
      "source": [
        "\n",
        "fig = plt.figure(figsize=(12,12))\n",
        "ax = sns.regplot(x=\"Age\", y=\"nWBV\",data=df,line_kws={\"color\": \"red\"})\n",
        "plt.xlabel('Age', size = 12); plt.ylabel('normal Whole Brain Volume (nWBV)', size = 12); \n",
        "sns.despine(fig=None, ax=None, top=True, right=True, left=False, bottom=False, offset=None, trim=False)\n",
        "plt.title('Negative Correlation b/w Age and normal Whole Brain Volume (nWBV) ', size = 20 );\n",
        "plt.savefig('Age_nWBV.png')\n",
        "\n",
        "\n",
        "\n",
        "\n"
      ],
      "execution_count": null,
      "outputs": []
    },
    {
      "cell_type": "markdown",
      "metadata": {
        "id": "eQd7qDJcHRh4"
      },
      "source": [
        "**Gender v/s nWBV of the patient**"
      ]
    },
    {
      "cell_type": "code",
      "metadata": {
        "id": "Kt0NBnS5HV3g"
      },
      "source": [
        "\n",
        "#ax = sns.boxplot(x=\"Age\", y=\"nWBV\",hue='Gender',data=df)\n",
        "\n",
        "# Create list of indicies of Gender counts\n",
        "gender_count= df['Gender'].value_counts()\n",
        "gender_indicies = list(gender_count.index)\n",
        "\n",
        "# Plot of distribution of scores for building categories\n",
        "\n",
        "fig = plt.figure(figsize=(12,10))\n",
        "\n",
        "# Plot each building\n",
        "for g in gender_indicies:\n",
        "    # Select the Gender category\n",
        "    subset = df[df['Gender']==g]      \n",
        "    # Density plot of nWBV scores \n",
        "    sns.kdeplot(subset['nWBV'], label =g, shade = False, alpha = 0.5);\n",
        "    #plt.legend()\n",
        "   \n",
        "\n",
        "sns.despine(fig=None, ax=None, top=True, right=True, left=False, bottom=False, offset=None, trim=False)\n",
        "plt.text(0.75,10.2,\"-->Female\",color=\"Black\",size=12)\n",
        "plt.text(0.715,11.1,\"-->Male\",color=\"Black\",size=12)\n",
        "# label the plot\n",
        "plt.xlabel('normal Whole Brain Volume (nWBV)', size = 12); plt.ylabel('Density', size = 12); \n",
        "plt.title('Density Plot of normal Whole Brain Volume (nWBV)  by Gender ', size = 20 );\n",
        "plt.savefig('Gender_nWBV.png')\n",
        "  \n",
        "\n"
      ],
      "execution_count": null,
      "outputs": []
    },
    {
      "cell_type": "markdown",
      "metadata": {
        "id": "7-kBmR4Tx8Aa"
      },
      "source": [
        "**Education vs nWBV of the patient**"
      ]
    },
    {
      "cell_type": "code",
      "metadata": {
        "id": "X8uwpTpikO3Z"
      },
      "source": [
        "fig = plt.figure(figsize=(12,12))\n",
        "ax = sns.stripplot(x=\"EDUC\", y=\"nWBV\", data=df, jitter=0.05)\n",
        "sns.despine(fig=None, ax=None, top=True, right=True, left=False, bottom=False, offset=None, trim=False)\n",
        "ax.set(xlabel=\"Years of Education\", ylabel = \"normal Whole Brain Volume (nWBV)\")\n",
        "plt.title('Density Plot of normal Whole Brain Volume (nWBV)  by Gender ', size = 16, );\n",
        "plt.title('Years of Education v/s normal Whole Brain Volume (nWBV)', size = 20 );\n",
        "plt.savefig('EDUC_nWBV.png')"
      ],
      "execution_count": null,
      "outputs": []
    },
    {
      "cell_type": "markdown",
      "metadata": {
        "id": "vjJ49_h6yNLB"
      },
      "source": [
        "**Social Economy Status vs nWBV of the patient**"
      ]
    },
    {
      "cell_type": "code",
      "metadata": {
        "id": "zMDjXYpgsbbM"
      },
      "source": [
        "fig = plt.figure(figsize=(12,12))\n",
        "ax = sns.stripplot(x=\"SES\", y=\"nWBV\", data=df, jitter=0.05)\n",
        "sns.despine(fig=None, ax=None, top=True, right=True, left=False, bottom=False, offset=None, trim=False)\n",
        "ax.set(xlabel=\"Social Economy Status\", ylabel = \"normal Whole Brain Volume (nWBV)\")\n",
        "plt.title('Social Economy Status v/s normal Whole Brain Volume (nWBV)', size = 20);\n",
        "plt.savefig('SES_nWBV.png')"
      ],
      "execution_count": null,
      "outputs": []
    }
  ]
}